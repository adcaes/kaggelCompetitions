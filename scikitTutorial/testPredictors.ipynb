{
 "metadata": {
  "name": "",
  "signature": "sha256:1be0c3494c864ec14efe489852698c2361ae43da6a4058f3f0a62ed4d0c685dc"
 },
 "nbformat": 3,
 "nbformat_minor": 0,
 "worksheets": [
  {
   "cells": [
    {
     "cell_type": "heading",
     "level": 1,
     "metadata": {},
     "source": [
      "Data Loading"
     ]
    },
    {
     "cell_type": "code",
     "collapsed": false,
     "input": [
      "import numpy as np\n",
      "from sklearn import cross_validation\n",
      "from sklearn import preprocessing\n",
      "from sklearn.grid_search import GridSearchCV\n",
      "\n",
      "X = np.loadtxt(\"train.csv\", delimiter=\",\")\n",
      "y = np.loadtxt(\"trainLabels.csv\", delimiter=\",\")\n",
      "\n",
      "scaler = preprocessing.StandardScaler().fit(X)\n",
      "X = scaler.transform(X) \n",
      "\n",
      "X_test = np.loadtxt(\"test.csv\", delimiter=\",\")\n",
      "X_test = scaler.transform(X_test)"
     ],
     "language": "python",
     "metadata": {},
     "outputs": []
    },
    {
     "cell_type": "heading",
     "level": 1,
     "metadata": {},
     "source": [
      "PCA (doesn't help)"
     ]
    },
    {
     "cell_type": "code",
     "collapsed": false,
     "input": [
      "from sklearn.decomposition import PCA\n",
      "pca = PCA(n_components=30, whiten=True)\n",
      "X_pca = pca.fit_transform(X)\n",
      "print(pca.explained_variance_ratio_) "
     ],
     "language": "python",
     "metadata": {},
     "outputs": []
    },
    {
     "cell_type": "heading",
     "level": 1,
     "metadata": {},
     "source": [
      "Default Logistic Regression"
     ]
    },
    {
     "cell_type": "code",
     "collapsed": false,
     "input": [
      "from sklearn.linear_model import LogisticRegression\n",
      "\n",
      "l_reg = LogisticRegression()\n",
      "scores = cross_validation.cross_val_score(l_reg, X, y, cv=5)\n",
      "print(\"Accuracy: %0.2f (+/- %0.2f)\" % (scores.mean(), scores.std() * 2)) # Accuracy: 0.82 (+/- 0.05)\n",
      "\n",
      "l_reg = l_reg.fit(X, y)\n",
      "y_test = l_reg.predict(X_test)\n",
      "\n",
      "y_test_labelled = np.c_[[i for i in range(1, 9001)], y_test]\n",
      "y_test_labelled = y_test_labelled.astype(int)\n",
      "np.savetxt(\"y_test_log_reg1.csv\", y_test_labelled, delimiter=\",\", header=\"Id,Solution\", fmt=\"%d\") #Need to delete # for column labels"
     ],
     "language": "python",
     "metadata": {},
     "outputs": [
      {
       "output_type": "stream",
       "stream": "stdout",
       "text": [
        "Accuracy: 0.82 (+/- 0.05)\n"
       ]
      }
     ],
     "prompt_number": 8
    },
    {
     "cell_type": "heading",
     "level": 1,
     "metadata": {},
     "source": [
      "LassoCV"
     ]
    },
    {
     "cell_type": "code",
     "collapsed": false,
     "input": [
      "from sklearn import linear_model\n",
      "\n",
      "lasso = linear_model.LassoCV()\n",
      "lasso.fit(X, y)\n",
      "print lasso.alpha_\n",
      "print lasso.score(X, y) # 0.459\n",
      "y_test = lasso.predict(X_test)\n",
      "y_test_labelled = np.c_[[i for i in range(1, 9001)], y_test]\n",
      "y_test_labelled = y_test_labelled.astype(int)\n",
      "np.savetxt(\"y_test_lassoCV.csv\", y_test_labelled, delimiter=\",\", header=\"Id,Solution\", fmt=\"%d\") #Need to delete # for column labels"
     ],
     "language": "python",
     "metadata": {},
     "outputs": [
      {
       "output_type": "stream",
       "stream": "stdout",
       "text": [
        "0.0103040947969\n",
        "0.45970081387\n"
       ]
      }
     ],
     "prompt_number": 10
    },
    {
     "cell_type": "heading",
     "level": 1,
     "metadata": {},
     "source": [
      "SVM"
     ]
    },
    {
     "cell_type": "code",
     "collapsed": false,
     "input": [
      "from sklearn import svm\n",
      "\n",
      "svc = svm.SVC()\n",
      "\n",
      "#gammas = np.logspace(-6, -1, 10)\n",
      "param_grid = [\n",
      "  {'C': [10, 100, 400, 500, ], 'kernel': ['linear']},\n",
      "  {'C': [10, 100, 400, 500, 1000000], 'gamma': [0.001, 0.0001, 0.277777], 'kernel': ['rbf']},\n",
      " ]\n",
      "\n",
      "clf = GridSearchCV(estimator=svc, param_grid=param_grid, n_jobs=2)\n",
      "clf.fit(X_pca, y)\n",
      "\n",
      "#BEST -> 400, 0.001, RBF\n",
      "print 'Best score ', clf.best_score_ #  0.869\n",
      "# print 'Best estimator ', clf.best_estimator_  "
     ],
     "language": "python",
     "metadata": {},
     "outputs": []
    },
    {
     "cell_type": "heading",
     "level": 1,
     "metadata": {},
     "source": [
      "Random Forest"
     ]
    },
    {
     "cell_type": "code",
     "collapsed": false,
     "input": [
      "from sklearn.ensemble import RandomForestClassifier\n",
      "\n",
      "rand_f = RandomForestClassifier()\n",
      "param_grid = {'n_estimators': [10, 20, 30], 'criterion': ['gini', 'entropy'], 'max_features': ['sqrt', None, 'log2'], 'bootstrap': [True, False]}\n",
      "clf = GridSearchCV(estimator=rand_f, param_grid=param_grid, n_jobs=-1)\n",
      "clf.fit(X, y)\n",
      "\n",
      "print 'Best score ', clf.best_score_ # 0.868\n"
     ],
     "language": "python",
     "metadata": {},
     "outputs": [
      {
       "output_type": "stream",
       "stream": "stdout",
       "text": [
        "Best score  0.868\n"
       ]
      }
     ],
     "prompt_number": 16
    },
    {
     "cell_type": "heading",
     "level": 1,
     "metadata": {},
     "source": [
      "Navie Bayes"
     ]
    },
    {
     "cell_type": "code",
     "collapsed": false,
     "input": [
      "from sklearn.naive_bayes import GaussianNB\n",
      "\n",
      "nb = GaussianNB()\n",
      "scores = cross_validation.cross_val_score(nb, X, y, cv=5)\n",
      "print(\"Accuracy: %0.2f (+/- %0.2f)\" % (scores.mean(), scores.std() * 2)) # Accuracy: 0.81 (+/- 0.03)"
     ],
     "language": "python",
     "metadata": {},
     "outputs": []
    },
    {
     "cell_type": "code",
     "collapsed": false,
     "input": [
      "from sklearn.qda import QDA\n",
      "\n",
      "nb = QDA()\n",
      "scores = cross_validation.cross_val_score(nb, X, y, cv=5)\n",
      "print(\"Accuracy: %0.2f (+/- %0.2f)\" % (scores.mean(), scores.std() * 2)) # Accuracy: 0.73 (+/- 0.05)"
     ],
     "language": "python",
     "metadata": {},
     "outputs": []
    }
   ],
   "metadata": {}
  }
 ]
}